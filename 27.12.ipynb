{
 "cells": [
  {
   "cell_type": "markdown",
   "id": "c40d926b",
   "metadata": {},
   "source": [
    "### Calcualtion of smallest eigenvalue"
   ]
  },
  {
   "cell_type": "code",
   "execution_count": 1,
   "id": "3cba9b3c",
   "metadata": {},
   "outputs": [
    {
     "name": "stdout",
     "output_type": "stream",
     "text": [
      "\n",
      "The inverse matrix C is approximately:\n",
      "[[-7.14285714e-02  1.42857143e-01  0.00000000e+00]\n",
      " [ 1.42857143e-01  2.04761905e+00 -1.66666667e+00]\n",
      " [-5.28677631e-17 -1.66666667e+00  1.33333333e+00]]\n",
      "\n",
      "The largest eigenvalue of the inverse matrix C is approximately: 3.398537967587981\n",
      "\n",
      "The smallest eigenvalue of the original matrix A is approximately: 0.294244174859027\n",
      "\n",
      "The corresponding eigenvector to this smallest eigenvalue is approximately:\n",
      "[ 0.03202172  0.7777971  -0.62769919]\n",
      "\n",
      "Number of iterations:\n",
      "4\n"
     ]
    }
   ],
   "source": [
    "# importing needed libraries\n",
    "import numpy as np\n",
    "\n",
    "# Define the original matrix A\n",
    "A = np.array([[2, 8, 10],\n",
    "              [8, 4, 5],\n",
    "              [10, 5, 7]])\n",
    "\n",
    "# Calculate the inverse of A\n",
    "C = np.linalg.inv(A)\n",
    "\n",
    "# Initialize the power method parameters\n",
    "max_iterations = 100\n",
    "tolerance = 1e-6\n",
    "x_k = np.array([1, 1, 1])  # Initial vector x_0\n",
    "\n",
    "# Apply the power method to the inverse matrix C\n",
    "for _ in range(max_iterations):\n",
    "    # Multiply C by the current vector x_k\n",
    "    x_k1 = np.dot(C, x_k)\n",
    "    \n",
    "    # Normalize the resulting vector\n",
    "    x_k1_norm = np.linalg.norm(x_k1)\n",
    "    x_k1 = x_k1 / x_k1_norm\n",
    "    \n",
    "    # Check for convergence\n",
    "    if np.linalg.norm(x_k1 - x_k) < tolerance:\n",
    "        break\n",
    "    \n",
    "    # Update x_k for the next iteration\n",
    "    x_k = x_k1\n",
    "\n",
    "# Calculate the dominant eigenvalue of C\n",
    "largest_eigenvalue_inverse = np.dot(x_k, np.dot(C, x_k)) / np.dot(x_k, x_k)\n",
    "\n",
    "# The smallest eigenvalue of A is the reciprocal of the largest eigenvalue of C\n",
    "smallest_eigenvalue_A = 1 / largest_eigenvalue_inverse\n",
    "\n",
    "# Printing the results\n",
    "print(f\"\\nThe inverse matrix C is approximately:\\n{C}\")\n",
    "print(f\"\\nThe largest eigenvalue of the inverse matrix C is approximately: {largest_eigenvalue_inverse}\")\n",
    "print(f\"\\nThe smallest eigenvalue of the original matrix A is approximately: {smallest_eigenvalue_A}\")\n",
    "print(f\"\\nThe corresponding eigenvector to this smallest eigenvalue is approximately:\\n{x_k}\")\n",
    "print('\\nNumber of iterations:')\n",
    "print(_)"
   ]
  },
  {
   "cell_type": "code",
   "execution_count": null,
   "id": "ca7214f8",
   "metadata": {},
   "outputs": [],
   "source": []
  }
 ],
 "metadata": {
  "kernelspec": {
   "display_name": "Python 3 (ipykernel)",
   "language": "python",
   "name": "python3"
  },
  "language_info": {
   "codemirror_mode": {
    "name": "ipython",
    "version": 3
   },
   "file_extension": ".py",
   "mimetype": "text/x-python",
   "name": "python",
   "nbconvert_exporter": "python",
   "pygments_lexer": "ipython3",
   "version": "3.11.5"
  }
 },
 "nbformat": 4,
 "nbformat_minor": 5
}
