{
 "cells": [
  {
   "cell_type": "markdown",
   "id": "2b5f059e",
   "metadata": {},
   "source": [
    "### Calculation of highest eigenvalue"
   ]
  },
  {
   "cell_type": "code",
   "execution_count": 1,
   "id": "2ff128f1",
   "metadata": {},
   "outputs": [
    {
     "name": "stdout",
     "output_type": "stream",
     "text": [
      "Inverse matrix C:\n",
      "[[-7.14285714e-02  1.42857143e-01  0.00000000e+00]\n",
      " [ 1.42857143e-01  2.04761905e+00 -1.66666667e+00]\n",
      " [-5.28677631e-17 -1.66666667e+00  1.33333333e+00]]\n",
      "\n",
      "Highest eigenvalue of matrix A:\n",
      "19.88423602661293\n",
      "\n",
      "Corresponding eigenvector:\n",
      "[0.58212832 0.49599457 0.64429497]\n",
      "\n",
      "Number of iterations:\n",
      "9\n"
     ]
    }
   ],
   "source": [
    "# importing needed libraries\n",
    "import numpy as np\n",
    "\n",
    "# Define the matrix A\n",
    "A = np.array([[2, 8, 10],\n",
    "              [8, 4, 5],\n",
    "              [10, 5, 7]])\n",
    "\n",
    "# Initialize x_0\n",
    "x_0 = np.array([1, 1, 1])\n",
    "\n",
    "# Set a maximum number of iterations\n",
    "max_iterations = 100\n",
    "\n",
    "# Set a tolerance for convergence\n",
    "tolerance = 1e-6\n",
    "\n",
    "# Begin the power method iterations\n",
    "x_k = x_0\n",
    "for _ in range(max_iterations):\n",
    "    # Multiply A by the current vector x_k\n",
    "    x_k1 = np.dot(A, x_k)\n",
    "    \n",
    "    # Normalize the resulting vector\n",
    "    x_k1_norm = np.linalg.norm(x_k1)\n",
    "    x_k1 = x_k1 / x_k1_norm\n",
    "    \n",
    "    # Check for convergence\n",
    "    if np.linalg.norm(x_k1 - x_k) < tolerance:\n",
    "        break\n",
    "    \n",
    "    # Update x_k for the next iteration\n",
    "    x_k = x_k1\n",
    "\n",
    "# when converged, calculate the eigenvalue\n",
    "eigenvalue = np.dot(x_k, np.dot(A, x_k)) / np.dot(x_k, x_k)\n",
    "\n",
    "# Calculate the inverse of A\n",
    "C = np.linalg.inv(A)\n",
    "\n",
    "# Print the inverse matrix C, the highest eigenvalue of A, the corresponding eigenvector, and the no of iterations\n",
    "print(\"Inverse matrix C:\")\n",
    "print(C)\n",
    "print(\"\\nHighest eigenvalue of matrix A:\")\n",
    "print(eigenvalue)\n",
    "print(\"\\nCorresponding eigenvector:\")\n",
    "print(x_k)\n",
    "print('\\nNumber of iterations:')\n",
    "print(_)"
   ]
  },
  {
   "cell_type": "code",
   "execution_count": null,
   "id": "58b76051",
   "metadata": {},
   "outputs": [],
   "source": []
  }
 ],
 "metadata": {
  "kernelspec": {
   "display_name": "Python 3 (ipykernel)",
   "language": "python",
   "name": "python3"
  },
  "language_info": {
   "codemirror_mode": {
    "name": "ipython",
    "version": 3
   },
   "file_extension": ".py",
   "mimetype": "text/x-python",
   "name": "python",
   "nbconvert_exporter": "python",
   "pygments_lexer": "ipython3",
   "version": "3.11.5"
  }
 },
 "nbformat": 4,
 "nbformat_minor": 5
}
