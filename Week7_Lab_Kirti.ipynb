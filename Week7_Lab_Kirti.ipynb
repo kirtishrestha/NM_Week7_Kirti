{
 "cells": [
  {
   "cell_type": "markdown",
   "id": "5697cf34",
   "metadata": {},
   "source": [
    "### 1) 4th order RK Method"
   ]
  },
  {
   "cell_type": "markdown",
   "id": "31d3fd9e",
   "metadata": {},
   "source": [
    "# 1st Iteration"
   ]
  },
  {
   "cell_type": "code",
   "execution_count": 41,
   "id": "8dc4d8e6",
   "metadata": {},
   "outputs": [
    {
     "name": "stdout",
     "output_type": "stream",
     "text": [
      " -1.5\n",
      " -0.927734375\n",
      " -1.1400985717773438\n",
      " -0.5911822319030762\n"
     ]
    },
    {
     "data": {
      "text/plain": [
       "0.4810959895451864"
      ]
     },
     "execution_count": 41,
     "metadata": {},
     "output_type": "execute_result"
    }
   ],
   "source": [
    "import numpy as np\n",
    "\n",
    "# Define the differential equation as a function\n",
    "def differential_eq(t, y):\n",
    "    return y * t**3 - 1.5 * y\n",
    "\n",
    "# Re-define the initial conditions and time step for clarity\n",
    "t0 = 0\n",
    "y0 = 1\n",
    "h = 0.5\n",
    "\n",
    "# Initialize the time and y values for the first iteration\n",
    "t = t0\n",
    "y = y0\n",
    "\n",
    "# Recalculate k1, k2, k3, k4 with corrected formula\n",
    "k1 = differential_eq(t, y)\n",
    "k2 = differential_eq(t + 0.5 * h, y + 0.5 * k1 * h)\n",
    "k3 = differential_eq(t + 0.5 * h, y + 0.5 * k2 * h)\n",
    "k4 = differential_eq(t + h, y + k3 * h)\n",
    "\n",
    "print('', k1)\n",
    "print('', k2)\n",
    "print('', k3)\n",
    "print('', k4)\n",
    "\n",
    "# Calculate y1 using the values of k1, k2, k3, k4\n",
    "y1 = y + (k1 + 2*k2 + 2*k3 + k4) / 6 * h\n",
    "\n",
    "y1"
   ]
  },
  {
   "cell_type": "markdown",
   "id": "65169430",
   "metadata": {},
   "source": [
    "# 2nd Iteration"
   ]
  },
  {
   "cell_type": "code",
   "execution_count": 42,
   "id": "fa0eb1c8",
   "metadata": {},
   "outputs": [
    {
     "name": "stdout",
     "output_type": "stream",
     "text": [
      " -0.6615069856246313\n",
      " -0.34038480900926515\n",
      " -0.42693727067512555\n",
      " -0.1338136771038118\n"
     ]
    },
    {
     "data": {
      "text/plain": [
       "0.2869322543704177"
      ]
     },
     "execution_count": 42,
     "metadata": {},
     "output_type": "execute_result"
    }
   ],
   "source": [
    "import numpy as np\n",
    "\n",
    "# Define the differential equation as a function\n",
    "def differential_eq(t, y):\n",
    "    return y * t**3 - 1.5 * y\n",
    "\n",
    "# Re-define the initial conditions and time step for clarity\n",
    "t1 = 0.5\n",
    "y1 = y1\n",
    "h = 0.5\n",
    "\n",
    "# Initialize the time and y values for the second iteration\n",
    "t = t1\n",
    "y = y1\n",
    "\n",
    "# Recalculate k1, k2, k3, k4 with corrected formula\n",
    "k1 = differential_eq(t, y)\n",
    "k2 = differential_eq(t + 0.5 * h, y + 0.5 * k1 * h)\n",
    "k3 = differential_eq(t + 0.5 * h, y + 0.5 * k2 * h)\n",
    "k4 = differential_eq(t + h, y + k3 * h)\n",
    "\n",
    "print('', k1)\n",
    "print('', k2)\n",
    "print('', k3)\n",
    "print('', k4)\n",
    "\n",
    "# Calculate y1 using the values of k1, k2, k3, k4\n",
    "y2 = y + (k1 + 2*k2 + 2*k3 + k4) / 6 * h\n",
    "\n",
    "y2"
   ]
  },
  {
   "cell_type": "markdown",
   "id": "5ec3fb85",
   "metadata": {},
   "source": [
    "# 3rd Iteration"
   ]
  },
  {
   "cell_type": "code",
   "execution_count": 43,
   "id": "1a45ffe4",
   "metadata": {},
   "outputs": [
    {
     "name": "stdout",
     "output_type": "stream",
     "text": [
      " -0.14346612718520885\n",
      " 0.11376415554139607\n",
      " 0.14290352350651925\n",
      " 0.671970030231895\n"
     ]
    },
    {
     "data": {
      "text/plain": [
       "0.37375219279896077"
      ]
     },
     "execution_count": 43,
     "metadata": {},
     "output_type": "execute_result"
    }
   ],
   "source": [
    "import numpy as np\n",
    "\n",
    "# Define the differential equation as a function\n",
    "def differential_eq(t, y):\n",
    "    return y * t**3 - 1.5 * y\n",
    "\n",
    "# Re-define the initial conditions and time step for clarity\n",
    "t2 = 1\n",
    "y2 = y2\n",
    "h = 0.5\n",
    "\n",
    "# Initialize the time and y values for the third iteration\n",
    "t = t2\n",
    "y = y2\n",
    "\n",
    "# Recalculate k1, k2, k3, k4 with corrected formula\n",
    "k1 = differential_eq(t, y)\n",
    "k2 = differential_eq(t + 0.5 * h, y + 0.5 * k1 * h)\n",
    "k3 = differential_eq(t + 0.5 * h, y + 0.5 * k2 * h)\n",
    "k4 = differential_eq(t + h, y + k3 * h)\n",
    "\n",
    "print('', k1)\n",
    "print('', k2)\n",
    "print('', k3)\n",
    "print('', k4)\n",
    "\n",
    "# Calculate y1 using the values of k1, k2, k3, k4\n",
    "y3 = y + (k1 + 2*k2 + 2*k3 + k4) / 6 * h\n",
    "\n",
    "y3"
   ]
  },
  {
   "cell_type": "markdown",
   "id": "c3530223",
   "metadata": {},
   "source": [
    "# 4th Iteration"
   ]
  },
  {
   "cell_type": "code",
   "execution_count": 44,
   "id": "ea51a0d3",
   "metadata": {},
   "outputs": [
    {
     "name": "stdout",
     "output_type": "stream",
     "text": [
      " 0.7007853614980515\n",
      " 2.1185982452163747\n",
      " 3.4865661447414755\n",
      " 13.760729223603041\n"
     ]
    },
    {
     "data": {
      "text/plain": [
       "2.5130724732170266"
      ]
     },
     "execution_count": 44,
     "metadata": {},
     "output_type": "execute_result"
    }
   ],
   "source": [
    "import numpy as np\n",
    "\n",
    "# Define the differential equation as a function\n",
    "def differential_eq(t, y):\n",
    "    return y * t**3 - 1.5 * y\n",
    "\n",
    "# Re-define the initial conditions and time step for clarity\n",
    "t3 = 1.5\n",
    "y3 = y3\n",
    "h = 0.5\n",
    "\n",
    "# Initialize the time and y values for the fourth iteration\n",
    "t = t3\n",
    "y = y3\n",
    "\n",
    "# Recalculate k1, k2, k3, k4 with corrected formula\n",
    "k1 = differential_eq(t, y)\n",
    "k2 = differential_eq(t + 0.5 * h, y + 0.5 * k1 * h)\n",
    "k3 = differential_eq(t + 0.5 * h, y + 0.5 * k2 * h)\n",
    "k4 = differential_eq(t + h, y + k3 * h)\n",
    "\n",
    "print('', k1)\n",
    "print('', k2)\n",
    "print('', k3)\n",
    "print('', k4)\n",
    "\n",
    "# Calculate y1 using the values of k1, k2, k3, k4\n",
    "y4 = y + (k1 + 2*k2 + 2*k3 + k4) / 6 * h\n",
    "\n",
    "y4"
   ]
  },
  {
   "cell_type": "markdown",
   "id": "14c4e4e3",
   "metadata": {},
   "source": [
    "# 5th Iteration"
   ]
  },
  {
   "cell_type": "code",
   "execution_count": 45,
   "id": "dc3ef9d6",
   "metadata": {},
   "outputs": [
    {
     "name": "stdout",
     "output_type": "stream",
     "text": [
      " 2.429389253193245\n",
      " 9.703687302493332\n",
      " 27.690525838458\n",
      " 200.84358845739496\n"
     ]
    },
    {
     "data": {
      "text/plain": [
       "23.545535858839866"
      ]
     },
     "execution_count": 45,
     "metadata": {},
     "output_type": "execute_result"
    }
   ],
   "source": [
    "import numpy as np\n",
    "\n",
    "# Define the differential equation as a function\n",
    "def differential_eq(t, y):\n",
    "    return y * t**3 - 1.5 * y\n",
    "\n",
    "# Re-define the initial conditions and time step for clarity\n",
    "t4 = 2\n",
    "y4 = y3\n",
    "h = 0.5\n",
    "\n",
    "# Initialize the time and y values for the fifth iteration\n",
    "t = t4\n",
    "y = y4\n",
    "\n",
    "# Recalculate k1, k2, k3, k4 with corrected formula\n",
    "k1 = differential_eq(t, y)\n",
    "k2 = differential_eq(t + 0.5 * h, y + 0.5 * k1 * h)\n",
    "k3 = differential_eq(t + 0.5 * h, y + 0.5 * k2 * h)\n",
    "k4 = differential_eq(t + h, y + k3 * h)\n",
    "\n",
    "print('', k1)\n",
    "print('', k2)\n",
    "print('', k3)\n",
    "print('', k4)\n",
    "\n",
    "# Calculate y1 using the values of k1, k2, k3, k4\n",
    "y5 = y + (k1 + 2*k2 + 2*k3 + k4) / 6 * h\n",
    "\n",
    "y5"
   ]
  },
  {
   "cell_type": "markdown",
   "id": "70e0e3ee",
   "metadata": {},
   "source": [
    "### 2) Power method to calculate smallest eigenvalue"
   ]
  },
  {
   "cell_type": "markdown",
   "id": "04b2f3f2",
   "metadata": {},
   "source": [
    "This is the Matrix:\n",
    "\n",
    "    [2, -1, 0]\n",
    "    [-1, 2, -1]\n",
    "    [0, -1, 2]"
   ]
  },
  {
   "cell_type": "code",
   "execution_count": 2,
   "id": "de6a53d7",
   "metadata": {},
   "outputs": [
    {
     "name": "stdout",
     "output_type": "stream",
     "text": [
      "The smallest eigenvalue for the matrix A is approximately: 1.707106781041179\n",
      "An eigenvector corresponding to this eigenvalue for matrix A is: [0.50000422 0.70710676 0.49999582]\n"
     ]
    }
   ],
   "source": [
    "import numpy as np\n",
    "\n",
    "def power_method_inv(A, tol=1e-10, max_iterations=1000):\n",
    "    n, m = A.shape\n",
    "    if n != m:\n",
    "        raise ValueError(\"Matrix A must be square\")\n",
    "    \n",
    "    # Start with a random vector\n",
    "    x = np.random.rand(n)\n",
    "    \n",
    "    # Normalize the initial vector\n",
    "    x = x / np.linalg.norm(x)\n",
    "    \n",
    "    # Inverse iteration\n",
    "    for _ in range(max_iterations):\n",
    "        # Solve the system A*x = y for x\n",
    "        y = np.linalg.solve(A, x)\n",
    "        \n",
    "        # Normalize y to get the next eigenvector approximation\n",
    "        x_next = y / np.linalg.norm(y)\n",
    "        \n",
    "        # Check for convergence\n",
    "        if np.allclose(x, x_next, atol=tol):\n",
    "            break\n",
    "        \n",
    "        x = x_next\n",
    "\n",
    "    # Compute the Rayleigh quotient as an approximation of the eigenvalue\n",
    "    eigenvalue = np.dot(x, np.dot(A, x)) / np.dot(x, x)\n",
    "    \n",
    "    return 1 / eigenvalue, x\n",
    "\n",
    "# A matrix\n",
    "A_diff = np.array([\n",
    "    [2, -1, 0],\n",
    "    [-1, 2, -1],\n",
    "    [0, -1, 2]\n",
    "])\n",
    "\n",
    "# Apply the power method to the provided matrix A_diff\n",
    "smallest_eigenvalue, eigenvector = power_method_inv(A_diff)\n",
    "print(f\"The smallest eigenvalue for the matrix A is approximately: {smallest_eigenvalue}\")\n",
    "print(f\"An eigenvector corresponding to this eigenvalue for matrix A is: {eigenvector}\")"
   ]
  },
  {
   "cell_type": "code",
   "execution_count": null,
   "id": "934ba148",
   "metadata": {},
   "outputs": [],
   "source": []
  }
 ],
 "metadata": {
  "kernelspec": {
   "display_name": "Python 3 (ipykernel)",
   "language": "python",
   "name": "python3"
  },
  "language_info": {
   "codemirror_mode": {
    "name": "ipython",
    "version": 3
   },
   "file_extension": ".py",
   "mimetype": "text/x-python",
   "name": "python",
   "nbconvert_exporter": "python",
   "pygments_lexer": "ipython3",
   "version": "3.11.5"
  }
 },
 "nbformat": 4,
 "nbformat_minor": 5
}
